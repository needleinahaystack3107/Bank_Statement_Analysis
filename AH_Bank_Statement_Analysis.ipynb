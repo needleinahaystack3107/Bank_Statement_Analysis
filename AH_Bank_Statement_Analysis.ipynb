{
 "cells": [
  {
   "cell_type": "code",
   "execution_count": 1,
   "id": "2f868dcc-651b-4849-a5f9-4056bb426972",
   "metadata": {},
   "outputs": [
    {
     "name": "stderr",
     "output_type": "stream",
     "text": [
      "C:\\Users\\abhij\\anaconda3\\lib\\site-packages\\fuzzywuzzy\\fuzz.py:11: UserWarning: Using slow pure-python SequenceMatcher. Install python-Levenshtein to remove this warning\n",
      "  warnings.warn('Using slow pure-python SequenceMatcher. Install python-Levenshtein to remove this warning')\n"
     ]
    }
   ],
   "source": [
    "import pandas as pd\n",
    "# !pip install fuzzywuzzy\n",
    "from fuzzywuzzy import fuzz\n",
    "from fuzzywuzzy import process\n",
    "import datetime as dt\n",
    "from difflib import SequenceMatcher\n"
   ]
  },
  {
   "cell_type": "markdown",
   "id": "58f28952-4937-468a-bf2f-16c8ae77c10e",
   "metadata": {},
   "source": [
    "## Adapter Layer\n",
    "#### This part of the notebook contains all the important functions required that we would use for the implementation of bank statement analysis.\n",
    "* Narration Matcher: This function takes a dataframe and string as an argument and returns all matched rows in the dataframe that contain the string upto a 30% fuzzy match level.\n",
    "* deposit_match: This function is used to find subset of withdrawal transactions that add up to a single deposit transaction.  \n",
    "* import_clean_df : This function is used to clean the bank statements dataframe    "
   ]
  },
  {
   "cell_type": "code",
   "execution_count": 2,
   "id": "e5544423-5a40-42b8-8629-ab37a1a461dc",
   "metadata": {},
   "outputs": [],
   "source": [
    "def narration_matcher(df,details):\n",
    "    index_match_list = [i for i in range(len(df)) if df.iloc[i,2]==details] \n",
    "    return df.loc[index_match_list]"
   ]
  },
  {
   "cell_type": "code",
   "execution_count": 3,
   "id": "50b6cbff-878e-4049-8a61-911df02c4bbe",
   "metadata": {},
   "outputs": [],
   "source": [
    "# Using subset sum algorithm for obtaining matches\n",
    "def deposit_match(array, num):\n",
    "    result = []\n",
    "    def find(arr, num, path=()):\n",
    "        if not arr:\n",
    "            return\n",
    "        if arr[0] == num:\n",
    "            result.append(path + (arr[0],))\n",
    "        else:\n",
    "            find(arr[1:], num - arr[0], path + (arr[0],))\n",
    "            find(arr[1:], num, path)\n",
    "    find(array, num)\n",
    "    return result"
   ]
  },
  {
   "cell_type": "code",
   "execution_count": 4,
   "id": "5afbc201-a428-4118-9bc5-52b72b293dc3",
   "metadata": {},
   "outputs": [],
   "source": [
    "def import_clean_df():\n",
    "    df_bs=pd.read_excel(\"bank_statements.xlsx\")\n",
    "    df_bs.drop(columns=['CHQ.NO.'],inplace=True)\n",
    "    return df_bs"
   ]
  },
  {
   "cell_type": "code",
   "execution_count": 5,
   "id": "5c7e114f-4107-4949-8039-747934bef669",
   "metadata": {},
   "outputs": [],
   "source": [
    "def similar(a, b):\n",
    "    return SequenceMatcher(None, a, b).ratio()"
   ]
  },
  {
   "cell_type": "code",
   "execution_count": 6,
   "id": "b6640036-9f63-4498-9d05-82d61cd0a76c",
   "metadata": {},
   "outputs": [],
   "source": [
    "def narration_matcher(df,details):\n",
    "    index_list = [i for i in range(len(df)) if fuzz.ratio(df.iloc[i,2],details)>30]\n",
    "    return df.iloc[index_list,:]"
   ]
  },
  {
   "cell_type": "code",
   "execution_count": 7,
   "id": "ea7503fd-be27-4511-a026-d949b7a29a00",
   "metadata": {},
   "outputs": [],
   "source": [
    "# Subset Sum Algorithm\n",
    "def subsetsum(array, num):\n",
    "\n",
    "    if num == 0 or num < 1:\n",
    "        return []\n",
    "    elif len(array) == 0:\n",
    "        return []\n",
    "    else:\n",
    "        if array[0] == num:\n",
    "            return [array[0]]\n",
    "        else:\n",
    "            with_v = subsetsum(array[1:],(num - array[0])) \n",
    "            if with_v:\n",
    "                return [array[0]] + with_v\n",
    "            else:\n",
    "\n",
    "                return subsetsum(array[1:],num)"
   ]
  },
  {
   "cell_type": "markdown",
   "id": "3b08a70e-a655-42c4-82ea-23b0ab868314",
   "metadata": {},
   "source": [
    "## Application Layer\n",
    "#### This part of the notebook contains all the important functions required that we would use for the implementation of bank statement analysis.\n",
    "\n",
    "   * We take an input CSV file of all red flagged accounts which we might know as bogus. Deposit ransactions in these accounts are matched against withdrawals from the account having the same transaction details. These transactions could considered as bogus transactions. That are just squared off.\n",
    "   * We would then attempt to create a fund tracing queue and visualize them for all transactions in these bogus accounts."
   ]
  },
  {
   "cell_type": "code",
   "execution_count": 8,
   "id": "b25a2dc7-aa6b-4129-a744-86992e5a1720",
   "metadata": {},
   "outputs": [
    {
     "data": {
      "text/html": [
       "<div>\n",
       "<style scoped>\n",
       "    .dataframe tbody tr th:only-of-type {\n",
       "        vertical-align: middle;\n",
       "    }\n",
       "\n",
       "    .dataframe tbody tr th {\n",
       "        vertical-align: top;\n",
       "    }\n",
       "\n",
       "    .dataframe thead th {\n",
       "        text-align: right;\n",
       "    }\n",
       "</style>\n",
       "<table border=\"1\" class=\"dataframe\">\n",
       "  <thead>\n",
       "    <tr style=\"text-align: right;\">\n",
       "      <th></th>\n",
       "      <th>Account No</th>\n",
       "      <th>DATE</th>\n",
       "      <th>TRANSACTION DETAILS</th>\n",
       "      <th>VALUE DATE</th>\n",
       "      <th>WITHDRAWAL AMT</th>\n",
       "      <th>DEPOSIT AMT</th>\n",
       "      <th>BALANCE AMT</th>\n",
       "      <th>.</th>\n",
       "    </tr>\n",
       "  </thead>\n",
       "  <tbody>\n",
       "    <tr>\n",
       "      <th>0</th>\n",
       "      <td>409000611074'</td>\n",
       "      <td>2017-06-29</td>\n",
       "      <td>TRF FROM  Indiaforensic SERVICES</td>\n",
       "      <td>2017-06-29</td>\n",
       "      <td>NaN</td>\n",
       "      <td>1000000.0</td>\n",
       "      <td>1000000.0</td>\n",
       "      <td>.</td>\n",
       "    </tr>\n",
       "    <tr>\n",
       "      <th>1</th>\n",
       "      <td>409000611074'</td>\n",
       "      <td>2017-07-05</td>\n",
       "      <td>TRF FROM  Indiaforensic SERVICES</td>\n",
       "      <td>2017-07-05</td>\n",
       "      <td>NaN</td>\n",
       "      <td>1000000.0</td>\n",
       "      <td>2000000.0</td>\n",
       "      <td>.</td>\n",
       "    </tr>\n",
       "    <tr>\n",
       "      <th>2</th>\n",
       "      <td>409000611074'</td>\n",
       "      <td>2017-07-18</td>\n",
       "      <td>FDRL/INTERNAL FUND TRANSFE</td>\n",
       "      <td>2017-07-18</td>\n",
       "      <td>NaN</td>\n",
       "      <td>500000.0</td>\n",
       "      <td>2500000.0</td>\n",
       "      <td>.</td>\n",
       "    </tr>\n",
       "    <tr>\n",
       "      <th>3</th>\n",
       "      <td>409000611074'</td>\n",
       "      <td>2017-08-01</td>\n",
       "      <td>TRF FRM  Indiaforensic SERVICES</td>\n",
       "      <td>2017-08-01</td>\n",
       "      <td>NaN</td>\n",
       "      <td>3000000.0</td>\n",
       "      <td>5500000.0</td>\n",
       "      <td>.</td>\n",
       "    </tr>\n",
       "    <tr>\n",
       "      <th>4</th>\n",
       "      <td>409000611074'</td>\n",
       "      <td>2017-08-16</td>\n",
       "      <td>FDRL/INTERNAL FUND TRANSFE</td>\n",
       "      <td>2017-08-16</td>\n",
       "      <td>NaN</td>\n",
       "      <td>500000.0</td>\n",
       "      <td>6000000.0</td>\n",
       "      <td>.</td>\n",
       "    </tr>\n",
       "  </tbody>\n",
       "</table>\n",
       "</div>"
      ],
      "text/plain": [
       "      Account No       DATE               TRANSACTION DETAILS VALUE DATE  \\\n",
       "0  409000611074' 2017-06-29  TRF FROM  Indiaforensic SERVICES 2017-06-29   \n",
       "1  409000611074' 2017-07-05  TRF FROM  Indiaforensic SERVICES 2017-07-05   \n",
       "2  409000611074' 2017-07-18        FDRL/INTERNAL FUND TRANSFE 2017-07-18   \n",
       "3  409000611074' 2017-08-01   TRF FRM  Indiaforensic SERVICES 2017-08-01   \n",
       "4  409000611074' 2017-08-16        FDRL/INTERNAL FUND TRANSFE 2017-08-16   \n",
       "\n",
       "   WITHDRAWAL AMT  DEPOSIT AMT  BALANCE AMT  .  \n",
       "0             NaN    1000000.0    1000000.0  .  \n",
       "1             NaN    1000000.0    2000000.0  .  \n",
       "2             NaN     500000.0    2500000.0  .  \n",
       "3             NaN    3000000.0    5500000.0  .  \n",
       "4             NaN     500000.0    6000000.0  .  "
      ]
     },
     "execution_count": 8,
     "metadata": {},
     "output_type": "execute_result"
    }
   ],
   "source": [
    "\n",
    "df_bs=import_clean_df()\n",
    "df_bs.head()\n",
    "\n",
    "# # Testing\n",
    "# details=\"TRF FROM Indiaforensic SERVICES\"\n",
    "# narration_matcher(df_bs,details)\n"
   ]
  },
  {
   "cell_type": "code",
   "execution_count": 9,
   "id": "b8208495-27a7-425d-90a8-f6d3e1e1ed2c",
   "metadata": {},
   "outputs": [],
   "source": [
    "# Input from User\n",
    "\n",
    "red_flagged_accounts = [\"1196711'\"]"
   ]
  },
  {
   "cell_type": "code",
   "execution_count": 10,
   "id": "1777ff3d-930a-4414-a63d-ed9a7c47a639",
   "metadata": {},
   "outputs": [
    {
     "name": "stderr",
     "output_type": "stream",
     "text": [
      "C:\\Users\\abhij\\anaconda3\\lib\\site-packages\\pandas\\core\\indexing.py:1676: SettingWithCopyWarning: \n",
      "A value is trying to be set on a copy of a slice from a DataFrame.\n",
      "Try using .loc[row_indexer,col_indexer] = value instead\n",
      "\n",
      "See the caveats in the documentation: https://pandas.pydata.org/pandas-docs/stable/user_guide/indexing.html#returning-a-view-versus-a-copy\n",
      "  self._setitem_single_column(ilocs[0], value, pi)\n"
     ]
    },
    {
     "name": "stdout",
     "output_type": "stream",
     "text": [
      "28000\n",
      "29000\n",
      "30000\n",
      "31000\n",
      "32000\n",
      "33000\n",
      "34000\n",
      "35000\n",
      "36000\n",
      "37000\n"
     ]
    }
   ],
   "source": [
    "df_res = []\n",
    "for i in range(0,len(red_flagged_accounts)):\n",
    "    \n",
    "    df_acc1 = df_bs[df_bs['Account No']==red_flagged_accounts[i]]\n",
    "\n",
    "    # Cleaning Account Number\n",
    "    df_acc1.loc[:,'Account No'] = df_acc1['Account No'].str.split(\"'\",expand=True)[0]\n",
    "\n",
    "    # Converting to String\n",
    "    df_acc1.loc[:,'TRANSACTION DETAILS']  = df_acc1.loc[:,'TRANSACTION DETAILS'].astype(str)\n",
    "\n",
    "    for (index, row) in df_acc1.iterrows():\n",
    "        if index % 1000 == 0:\n",
    "            print(index)\n",
    "\n",
    "        if row[\"DEPOSIT AMT\"] >= 0:\n",
    "            acc_no = row[\"Account No\"]\n",
    "            date = row[\"VALUE DATE\"]\n",
    "            deposit_amt = row[\"DEPOSIT AMT\"]\n",
    "            trans_details = row[\"TRANSACTION DETAILS\"]\n",
    "\n",
    "            df_temp =df_acc1[(df_acc1[\"Account No\"] == acc_no) & (df_acc1[\"VALUE DATE\"] == date) & (df_acc1[\"WITHDRAWAL AMT\"] >= 0)]\n",
    "\n",
    "    #         df_temp_res = seq_match(df_temp, trans_details)\n",
    "\n",
    "            index_list = [i for i in range(len(df_temp)) if fuzz.ratio(df_temp.iloc[i,2],trans_details)>30]\n",
    "            df_temp_res = df_temp.iloc[index_list,:]\n",
    "\n",
    "            if not df_temp_res.empty:        \n",
    "                withdrawal_amt = list(df_temp_res[\"WITHDRAWAL AMT\"])\n",
    "                subset =  subsetsum(withdrawal_amt, deposit_amt)\n",
    "                if len(subset) > 1:\n",
    "                    df_res.append([acc_no, trans_details, date, deposit_amt, subset])\n"
   ]
  },
  {
   "cell_type": "code",
   "execution_count": 12,
   "id": "f3449f33-87e4-4833-bffe-30c614065e0f",
   "metadata": {},
   "outputs": [],
   "source": [
    "df_res = pd.DataFrame(df_res, columns = ['Account Number','Deposit Transaction Details','Date of Transaction','Deposit Amount','Withdrawal Amount'])"
   ]
  },
  {
   "cell_type": "code",
   "execution_count": 13,
   "id": "daab6cc8-6da7-4013-951f-7d10880346fb",
   "metadata": {},
   "outputs": [
    {
     "data": {
      "text/html": [
       "<div>\n",
       "<style scoped>\n",
       "    .dataframe tbody tr th:only-of-type {\n",
       "        vertical-align: middle;\n",
       "    }\n",
       "\n",
       "    .dataframe tbody tr th {\n",
       "        vertical-align: top;\n",
       "    }\n",
       "\n",
       "    .dataframe thead th {\n",
       "        text-align: right;\n",
       "    }\n",
       "</style>\n",
       "<table border=\"1\" class=\"dataframe\">\n",
       "  <thead>\n",
       "    <tr style=\"text-align: right;\">\n",
       "      <th></th>\n",
       "      <th>Account Number</th>\n",
       "      <th>Deposit Transaction Details</th>\n",
       "      <th>Date of Transaction</th>\n",
       "      <th>Deposit Amount</th>\n",
       "      <th>Withdrawal Amount</th>\n",
       "    </tr>\n",
       "  </thead>\n",
       "  <tbody>\n",
       "    <tr>\n",
       "      <th>0</th>\n",
       "      <td>1196711</td>\n",
       "      <td>NEFT/AXISF15251044648/Indfor</td>\n",
       "      <td>2015-09-08</td>\n",
       "      <td>20000000.0</td>\n",
       "      <td>[10000000.0, 10000000.0]</td>\n",
       "    </tr>\n",
       "    <tr>\n",
       "      <th>1</th>\n",
       "      <td>1196711</td>\n",
       "      <td>NEFT/AXISF16093010519/Indfor</td>\n",
       "      <td>2016-04-02</td>\n",
       "      <td>20000000.0</td>\n",
       "      <td>[10000000.0, 10000000.0]</td>\n",
       "    </tr>\n",
       "    <tr>\n",
       "      <th>2</th>\n",
       "      <td>1196711</td>\n",
       "      <td>NEFT/AXISF16127086937/Indfor</td>\n",
       "      <td>2016-05-06</td>\n",
       "      <td>30000000.0</td>\n",
       "      <td>[15000000.0, 15000000.0]</td>\n",
       "    </tr>\n",
       "    <tr>\n",
       "      <th>3</th>\n",
       "      <td>1196711</td>\n",
       "      <td>NEFT/AXISF16246067582/Indfor</td>\n",
       "      <td>2016-09-02</td>\n",
       "      <td>20000000.0</td>\n",
       "      <td>[15000000.0, 5000000.0]</td>\n",
       "    </tr>\n",
       "    <tr>\n",
       "      <th>4</th>\n",
       "      <td>1196711</td>\n",
       "      <td>FDRL/INTERNAL FUND TRANSFE</td>\n",
       "      <td>2017-07-03</td>\n",
       "      <td>15000000.0</td>\n",
       "      <td>[5000000.0, 5000000.0, 5000000.0]</td>\n",
       "    </tr>\n",
       "    <tr>\n",
       "      <th>5</th>\n",
       "      <td>1196711</td>\n",
       "      <td>FDRL/INTERNAL FUND TRANSFE</td>\n",
       "      <td>2017-07-04</td>\n",
       "      <td>7900000.0</td>\n",
       "      <td>[4975000.0, 235765.0, 401131.0, 151319.0, 2584...</td>\n",
       "    </tr>\n",
       "    <tr>\n",
       "      <th>6</th>\n",
       "      <td>1196711</td>\n",
       "      <td>FDRL/INTERNAL FUND TRANSFE</td>\n",
       "      <td>2017-07-04</td>\n",
       "      <td>10000000.0</td>\n",
       "      <td>[6534000.0, 235765.0, 401131.0, 326763.0, 1513...</td>\n",
       "    </tr>\n",
       "    <tr>\n",
       "      <th>7</th>\n",
       "      <td>1196711</td>\n",
       "      <td>FDRL/INTERNAL FUND TRANSFE</td>\n",
       "      <td>2017-08-10</td>\n",
       "      <td>10000000.0</td>\n",
       "      <td>[5000000.0, 5000000.0]</td>\n",
       "    </tr>\n",
       "  </tbody>\n",
       "</table>\n",
       "</div>"
      ],
      "text/plain": [
       "  Account Number   Deposit Transaction Details Date of Transaction  \\\n",
       "0        1196711  NEFT/AXISF15251044648/Indfor          2015-09-08   \n",
       "1        1196711  NEFT/AXISF16093010519/Indfor          2016-04-02   \n",
       "2        1196711  NEFT/AXISF16127086937/Indfor          2016-05-06   \n",
       "3        1196711  NEFT/AXISF16246067582/Indfor          2016-09-02   \n",
       "4        1196711    FDRL/INTERNAL FUND TRANSFE          2017-07-03   \n",
       "5        1196711    FDRL/INTERNAL FUND TRANSFE          2017-07-04   \n",
       "6        1196711    FDRL/INTERNAL FUND TRANSFE          2017-07-04   \n",
       "7        1196711    FDRL/INTERNAL FUND TRANSFE          2017-08-10   \n",
       "\n",
       "   Deposit Amount                                  Withdrawal Amount  \n",
       "0      20000000.0                           [10000000.0, 10000000.0]  \n",
       "1      20000000.0                           [10000000.0, 10000000.0]  \n",
       "2      30000000.0                           [15000000.0, 15000000.0]  \n",
       "3      20000000.0                            [15000000.0, 5000000.0]  \n",
       "4      15000000.0                  [5000000.0, 5000000.0, 5000000.0]  \n",
       "5       7900000.0  [4975000.0, 235765.0, 401131.0, 151319.0, 2584...  \n",
       "6      10000000.0  [6534000.0, 235765.0, 401131.0, 326763.0, 1513...  \n",
       "7      10000000.0                             [5000000.0, 5000000.0]  "
      ]
     },
     "execution_count": 13,
     "metadata": {},
     "output_type": "execute_result"
    }
   ],
   "source": [
    "#  Printing out all Circular Transactions That could be Fraudulent to create inflated Numbers\n",
    "df_res"
   ]
  },
  {
   "cell_type": "markdown",
   "id": "c67c92a0-036c-4a90-81e9-179e258e075e",
   "metadata": {},
   "source": [
    "## Results \n",
    "\n",
    "To summarize what we have currently done:- \n",
    " 1. User provides the account numbers that have been red flagged or are of interest.\n",
    " 2. All transactions that have occured such that the narrations of incoming and outgoing transactions match at least 30% are selected and stored in a separate dataframe for further analysis. \n",
    " 3. These incoming and outgoing transactions have occured on the same day indicating that these could be potential fraudulent transactions to inflate revenues."
   ]
  }
 ],
 "metadata": {
  "kernelspec": {
   "display_name": "Python 3",
   "language": "python",
   "name": "python3"
  },
  "language_info": {
   "codemirror_mode": {
    "name": "ipython",
    "version": 3
   },
   "file_extension": ".py",
   "mimetype": "text/x-python",
   "name": "python",
   "nbconvert_exporter": "python",
   "pygments_lexer": "ipython3",
   "version": "3.8.8"
  }
 },
 "nbformat": 4,
 "nbformat_minor": 5
}
